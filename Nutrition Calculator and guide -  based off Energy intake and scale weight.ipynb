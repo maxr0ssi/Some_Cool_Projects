{
 "cells": [
  {
   "cell_type": "code",
   "execution_count": 15,
   "id": "ad882234",
   "metadata": {},
   "outputs": [],
   "source": [
    "#1A.\n",
    "import numpy as np\n",
    "import pandas as pd "
   ]
  },
  {
   "cell_type": "code",
   "execution_count": 16,
   "id": "66ef2770",
   "metadata": {},
   "outputs": [],
   "source": [
    "# importing and cleaning Nutrition\n",
    "MFP = pd.read_csv('Nutrition.csv')\n",
    "Clean = MFP.drop(['Note','Time'], axis = 1 )\n",
    "Days = Clean.groupby('Date').sum()\n",
    "Days = Days.drop(Days.index[-1])"
   ]
  },
  {
   "cell_type": "code",
   "execution_count": 17,
   "id": "59993af7",
   "metadata": {},
   "outputs": [],
   "source": [
    "#Scale Weight\n",
    "Scale = pd.read_csv('Scale.csv')"
   ]
  },
  {
   "cell_type": "code",
   "execution_count": 18,
   "id": "cda9dcf8",
   "metadata": {},
   "outputs": [],
   "source": [
    "Scale['Rolling Average'] = Scale.rolling(\n",
    "    window=7, center = True)['Weight'].mean()\n",
    "\n",
    "# change in weight during data set - using rolling averages!\n",
    "delta_weight = Scale['Rolling Average'].iloc[-4] - Scale['Rolling Average'].iloc[3]\n",
    "current_weight = Scale['Rolling Average'].iloc[-4]"
   ]
  },
  {
   "cell_type": "code",
   "execution_count": 19,
   "id": "fafd8ab3",
   "metadata": {},
   "outputs": [],
   "source": [
    "#creating a caloric mean \n",
    "\n",
    "Days['Weekly Calorie Mean'] = Days.rolling(\n",
    "    window=7, center = True)['Calories'].mean()"
   ]
  },
  {
   "cell_type": "code",
   "execution_count": 20,
   "id": "da3ba36f",
   "metadata": {},
   "outputs": [],
   "source": [
    "bold = \"\\033[1m\"\n",
    "end = \"\\033[0;0m\""
   ]
  },
  {
   "cell_type": "code",
   "execution_count": 21,
   "id": "3792a138",
   "metadata": {},
   "outputs": [],
   "source": [
    "# Functions with scale data\n",
    "\n",
    "def CUTINTAKE(Value,weight_change):\n",
    "\n",
    "    percent = float(input('What percent of body weight do you want to lose (per month)? : '))\n",
    "    target_change = current_weight * (percent / 100) \n",
    "    Days = float(len(Value))\n",
    "    \n",
    "    \n",
    "    \n",
    "    Dayminus_kg = (target_change / Days)\n",
    "    Daily_Cut = Dayminus_kg * 7500\n",
    "\n",
    "    \n",
    "    Calories = float(Value['Calories'].mean())\n",
    "    \n",
    "    \n",
    "    maintenance = Calories - ((weight_change *7500) / Days)\n",
    "    \n",
    "    b = maintenance - Daily_Cut\n",
    "    \n",
    "    print('You need to eat', int(b), 'Amount of calories a day, \\nto lose',\n",
    "          percent, '% per month, with your current activity level')\n",
    "    print(' ')\n",
    "    \n",
    "    return b\n",
    "\n",
    "def BULKINTAKE(Value, weight_change):\n",
    "    \n",
    "    percent = float(input('What percent of body weight do you want to gain (per month)? : '))\n",
    "    target_change = current_weight * (percent / 100) \n",
    "    DayADD = (target_change * 7500) / 28\n",
    "\n",
    "    Calories = float(Value['Calories'].mean())\n",
    "    Days = float(len(Value))\n",
    "    surplus_calories = weight_change * 7500\n",
    "    \n",
    "    daily_surplus = int(surplus_calories) / Days\n",
    "    x = Calories - daily_surplus + int(DayADD)\n",
    "    x = int(x)\n",
    "    \n",
    "    print('You need to eat', round(int(x)), 'Amount of calories a day, \\nto gain',\n",
    "          percent, 'percent body weight per month, with your current activity level')\n",
    "    print(' ')\n",
    "    \n",
    "    return x\n",
    "\n",
    "def macsplit(cals):\n",
    "    ACC_weight = current_weight\n",
    "    Fats = int(ACC_weight)\n",
    "    Protein = (ACC_weight *2.2) * 1.3\n",
    "    remaining_intake = cals - ((Fats * 9 ) + (Protein * 4))\n",
    "    Carbs = remaining_intake / 4\n",
    "        \n",
    "    print('')\n",
    "    print(bold +'Based on your weight and past trends your macros are: \\n'+end)\n",
    "        \n",
    "    print(f'Protein: {round(Protein)} (g) \\n',\n",
    "          'Fats:',round(Fats),'(g) \\n'\n",
    "          'Carbohydrates:',round(Carbs),'(g) \\n')\n",
    "    \n",
    "    return \n",
    "\n",
    "#macros function is all 3 previous funcions togtther \n",
    "\n",
    "def macros(Value,weight_change): \n",
    "    print(bold +'please anser \"yes\" or \"no\"' +end)\n",
    "    print('')\n",
    "    goal = input(bold +'Do you want to gain weight: '+end)\n",
    "    \n",
    "    if goal == 'yes':\n",
    "        macsplit(int(AUTOBULKINTAKE(Value,weight_change)))\n",
    "        \n",
    "    else:\n",
    "        macsplit(int(AUTOCUTINTAKE(Value,weight_change)))\n",
    "    \n",
    "    return  \n"
   ]
  },
  {
   "cell_type": "code",
   "execution_count": 22,
   "id": "1dd77996",
   "metadata": {},
   "outputs": [],
   "source": [
    "# Nutrion split- an option of calorie cycling \n",
    "\n",
    "def macsplit_cycling(cals, ACC_weight):\n",
    "    Fats = int(ACC_weight)\n",
    "    Protein = (ACC_weight *2.2) * 1.3\n",
    "    remaining_intake = cals - ((Fats * 9 ) + (Protein * 4))\n",
    "    Carbs = remaining_intake / 4\n",
    "        \n",
    "    print('')\n",
    "    print(bold +'Based on your weight and past trends your macros are: \\n'+end)\n",
    "        \n",
    "    print('Protein:',round(Protein),'(g) \\n',\n",
    "          'Fats:',round(Fats),'(g) \\n'\n",
    "          'Carbohydrates:',round(Carbs),'(g) \\n')\n",
    "\n",
    "def cuthighlowdays(number):\n",
    "    high_days = number + 500\n",
    "    low_days = number - 500 \n",
    "    \n",
    "    ACC_weight = float(input(bold +'Enter Current Average Weight in Kg: '+end))\n",
    "    print('')\n",
    "    \n",
    "    print(bold +'High days should be Monday, Tuesday, Wednesday'+end)\n",
    "    \n",
    "    print(bold +'High days macros are:'+end)\n",
    "    h =  macsplit_cycling(int(high_days), int(ACC_weight))\n",
    "    print('')\n",
    "    \n",
    "    print(bold +'Low days should be Thursday, Friday, Saturday'+end)\n",
    "    print(bold +'Low days macros are:'+end)\n",
    "    l =  macsplit_cycling(int(low_days), int(ACC_weight))\n",
    "    print('')\n",
    "    \n",
    "\n",
    "    print(bold +'Rest days (Sunday) macros are:'+end)\n",
    "    m =  macsplit_cycling(int(number), int(ACC_weight))\n",
    "    print('')\n",
    "                                  \n",
    "    return "
   ]
  },
  {
   "cell_type": "code",
   "execution_count": 23,
   "id": "793ae16a",
   "metadata": {},
   "outputs": [
    {
     "name": "stdout",
     "output_type": "stream",
     "text": [
      "\u001b[1mplease anser \"yes\" or \"no\"\u001b[0;0m\n",
      "\n",
      "Do you want to gain weight: yes\n",
      "What percent of body weight do you want to gain (per month)? : 2\n",
      "You need to eat 3536 Amount of calories a day, \n",
      "to gain 2.0 percent body weight per month, with your current activity level\n",
      " \n",
      "\n",
      "\u001b[1mBased on your weight and past trends your macros are: \n",
      "\u001b[0;0m\n",
      "Protein: 192 (g) \n",
      " Fats: 67 (g) \n",
      "Carbohydrates: 541 (g) \n",
      "\n"
     ]
    }
   ],
   "source": [
    "# note if maintenance choose 0 %\n",
    "# Automacros(Nutrtion data, and change in weight)\n",
    "# I prefer a low fat diet hence the 1g per kg but this could be altered \n",
    "macros(Days.iloc[4:],delta_weight)"
   ]
  }
 ],
 "metadata": {
  "kernelspec": {
   "display_name": "Python 3 (ipykernel)",
   "language": "python",
   "name": "python3"
  },
  "language_info": {
   "codemirror_mode": {
    "name": "ipython",
    "version": 3
   },
   "file_extension": ".py",
   "mimetype": "text/x-python",
   "name": "python",
   "nbconvert_exporter": "python",
   "pygments_lexer": "ipython3",
   "version": "3.9.7"
  }
 },
 "nbformat": 4,
 "nbformat_minor": 5
}
